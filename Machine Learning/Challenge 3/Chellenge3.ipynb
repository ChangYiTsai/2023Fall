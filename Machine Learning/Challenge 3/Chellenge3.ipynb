{
  "nbformat": 4,
  "nbformat_minor": 0,
  "metadata": {
    "colab": {
      "provenance": []
    },
    "kernelspec": {
      "name": "python3",
      "display_name": "Python 3"
    },
    "language_info": {
      "name": "python"
    }
  },
  "cells": [
    {
      "cell_type": "code",
      "execution_count": null,
      "metadata": {
        "id": "p74Hs7XAiKqZ"
      },
      "outputs": [],
      "source": [
        "import csv\n",
        "import pandas as pd\n",
        "import numpy as np\n",
        "import seaborn as sns\n",
        "\n",
        "from pydrive.auth import GoogleAuth\n",
        "from google.colab import drive\n",
        "from pydrive.drive import GoogleDrive\n",
        "from google.colab import auth\n",
        "from oauth2client.client import GoogleCredentials\n",
        "\n",
        "from sklearn.model_selection import train_test_split\n",
        "from sklearn.preprocessing import StandardScaler\n",
        "from sklearn.impute import SimpleImputer\n",
        "from sklearn.neighbors import KNeighborsClassifier\n",
        "from sklearn.metrics import confusion_matrix, accuracy_score, classification_report\n",
        "from sklearn.metrics import roc_curve, roc_auc_score\n",
        "import matplotlib.pyplot as plt"
      ]
    },
    {
      "cell_type": "code",
      "source": [
        "auth.authenticate_user()\n",
        "gauth = GoogleAuth()\n",
        "gauth.credentials = GoogleCredentials.get_application_default()\n",
        "drive = GoogleDrive(gauth)\n",
        "\n",
        "test_id = '1OCmcnJbQ7yKMFD8di8QIUTdZrFtjWCGt'\n",
        "rating_df_id = '1TgkqAqWX2nXn4w8fNIRAO07G42klFwKM'\n",
        "movie_id = '1hiv4rOCwSlzP_JfoNPUKSAZVhwgpHhYw'\n",
        "link_id = '1quhfEIeGyJKDsqoC5J9iT053aSbLpmLX'\n",
        "genome_tags_id = '156oC_Sm9ZVGCZ1a997mR2lTqT2vzCxiM'\n",
        "genome_scores_id = '1K5yHeEUUU-C7Xzpy_Kezf85uSAU2yASi'\n",
        "tag_id = '1bh4y_xLRPCnifHfpiCUrC3Vc0lnGRdWF'\n",
        "\n",
        "\n",
        "test_download = drive.CreateFile({'id': test_id})\n",
        "rating_df_download = drive.CreateFile({'id': rating_df_id})\n",
        "movie_download = drive.CreateFile({'id': movie_id})\n",
        "link_dowmload = drive.CreateFile({'id': genome_tags_id})\n",
        "genome_tags_download = drive.CreateFile({'id': genome_tags_id})\n",
        "genome_scores_download = drive.CreateFile({'id': genome_scores_id})\n",
        "tag_download = drive.CreateFile({'id': tag_id})\n",
        "\n",
        "# Download the file to a local disc\n",
        "test_download.GetContentFile('test_file.csv')\n",
        "rating_df_download.GetContentFile('rating_df_file.csv')\n",
        "movie_download.GetContentFile('movie_file.csv')\n",
        "link_dowmload.GetContentFile('link_file.csv')\n",
        "genome_tags_download.GetContentFile('genome_tags_file.csv')\n",
        "genome_scores_download.GetContentFile('genome_scores_file.csv')\n",
        "tag_download.GetContentFile('tag_file.csv')\n",
        "\n",
        "# Specify the data type for the problematic column (e.g., as 'str' if it should be a string)\n",
        "# If you're not sure about the correct data type, you can use 'str' to read everything as strings and then process it later.\n",
        "dtype_dict = {6: 'str'}\n",
        "\n",
        "test_df = pd.read_csv(\"test_file.csv\", dtype=dtype_dict, low_memory=False)\n",
        "rating_df = pd.read_csv(\"rating_df_file.csv\", dtype=dtype_dict, low_memory=False)\n",
        "movie_df = pd.read_csv(\"movie_file.csv\", dtype=dtype_dict, low_memory=False)\n",
        "link_df = pd.read_csv(\"link_file.csv\", dtype=dtype_dict, low_memory=False)\n",
        "genome_tags_df = pd.read_csv(\"genome_tags_file.csv\", dtype=dtype_dict, low_memory=False)\n",
        "genome_scores_df = pd.read_csv(\"genome_scores_file.csv\", dtype=dtype_dict, low_memory=False)\n",
        "tag_df = pd.read_csv(\"tag_file.csv\", dtype=dtype_dict, low_memory=False)"
      ],
      "metadata": {
        "id": "McDZ5YCOkuAn"
      },
      "execution_count": null,
      "outputs": []
    },
    {
      "cell_type": "code",
      "source": [
        "!pip install surprise"
      ],
      "metadata": {
        "colab": {
          "base_uri": "https://localhost:8080/"
        },
        "id": "8tFaltHuoWQt",
        "outputId": "f5755bbb-062f-4fa7-cbce-f82c8be7182a"
      },
      "execution_count": null,
      "outputs": [
        {
          "output_type": "stream",
          "name": "stdout",
          "text": [
            "Collecting surprise\n",
            "  Downloading surprise-0.1-py2.py3-none-any.whl (1.8 kB)\n",
            "Collecting scikit-surprise (from surprise)\n",
            "  Downloading scikit-surprise-1.1.3.tar.gz (771 kB)\n",
            "\u001b[2K     \u001b[90m━━━━━━━━━━━━━━━━━━━━━━━━━━━━━━━━━━━━━━━━\u001b[0m \u001b[32m772.0/772.0 kB\u001b[0m \u001b[31m10.9 MB/s\u001b[0m eta \u001b[36m0:00:00\u001b[0m\n",
            "\u001b[?25h  Preparing metadata (setup.py) ... \u001b[?25l\u001b[?25hdone\n",
            "Requirement already satisfied: joblib>=1.0.0 in /usr/local/lib/python3.10/dist-packages (from scikit-surprise->surprise) (1.3.2)\n",
            "Requirement already satisfied: numpy>=1.17.3 in /usr/local/lib/python3.10/dist-packages (from scikit-surprise->surprise) (1.23.5)\n",
            "Requirement already satisfied: scipy>=1.3.2 in /usr/local/lib/python3.10/dist-packages (from scikit-surprise->surprise) (1.11.3)\n",
            "Building wheels for collected packages: scikit-surprise\n",
            "  Building wheel for scikit-surprise (setup.py) ... \u001b[?25l\u001b[?25hdone\n",
            "  Created wheel for scikit-surprise: filename=scikit_surprise-1.1.3-cp310-cp310-linux_x86_64.whl size=3163496 sha256=be09fa0d12117e830f41960f46d3a9f30ef009717a712f83982df246ff612df2\n",
            "  Stored in directory: /root/.cache/pip/wheels/a5/ca/a8/4e28def53797fdc4363ca4af740db15a9c2f1595ebc51fb445\n",
            "Successfully built scikit-surprise\n",
            "Installing collected packages: scikit-surprise, surprise\n",
            "Successfully installed scikit-surprise-1.1.3 surprise-0.1\n"
          ]
        }
      ]
    },
    {
      "cell_type": "code",
      "source": [
        "from collections import defaultdict #acts just like dictionary except for the fact that it never raises a KeyError. It displays a default value for the Key that doesn't exist. Useful as many movies wouldn't have ratings as users did not watch them so this would avoid KeyErrors.\n",
        "from surprise import SVD, Dataset #surprise is a scikit library used for recommendation systems\n",
        "\n",
        "import pandas as pd\n",
        "\n",
        "from surprise.prediction_algorithms.matrix_factorization import SVD\n",
        "from sklearn.model_selection import train_test_split\n",
        "import surprise"
      ],
      "metadata": {
        "id": "VL-GVHNDl7lU"
      },
      "execution_count": null,
      "outputs": []
    },
    {
      "cell_type": "markdown",
      "source": [
        "# SVD"
      ],
      "metadata": {
        "id": "F1czrI9vw2ex"
      }
    },
    {
      "cell_type": "code",
      "source": [
        "from surprise import SVD\n",
        "from surprise import Dataset\n",
        "from surprise import Reader\n",
        "from surprise.model_selection import train_test_split\n",
        "from surprise.accuracy import rmse, mae\n",
        "\n",
        "# Sample the dataset (assuming rating_df is your full dataset)\n",
        "sample_df = rating_df.sample(frac=0.001, random_state=42)\n",
        "reader = Reader(rating_scale=(1, 5))\n",
        "data = Dataset.load_from_df(sample_df[['userId', 'movieId', 'rating']], reader)\n",
        "\n",
        "# Split the data into a training set and a validation set\n",
        "trainset, testset = train_test_split(data, test_size=0.2)"
      ],
      "metadata": {
        "id": "W-jMLIFUwi-U"
      },
      "execution_count": null,
      "outputs": []
    },
    {
      "cell_type": "markdown",
      "source": [
        "Baseline: Predict the item's average rating across all users.\n"
      ],
      "metadata": {
        "id": "ntjo4SXkxlbk"
      }
    },
    {
      "cell_type": "code",
      "source": [
        "# Calculate the mean rating for each item using the trainset\n",
        "item_means = {}\n",
        "for iid, ratings in trainset.ir.items():\n",
        "    item_means[iid] = np.mean([rating for (_, rating) in ratings])\n",
        "\n",
        "# Function to predict the average for a given item\n",
        "def predict_item_mean(item_id, item_means, global_mean):\n",
        "    # If the item_id is not in the training set, fall back to the global mean\n",
        "    return item_means.get(item_id, global_mean)\n",
        "\n",
        "# Predict ratings for the test set based on item means\n",
        "global_mean = trainset.global_mean  # Global mean rating\n",
        "baseline_predictions = []\n",
        "for uid, iid, true_r in testset:\n",
        "    baseline_predictions.append(predict_item_mean(iid, item_means, global_mean))\n",
        "\n",
        "# Actual ratings\n",
        "actual_ratings = [true_r for (_, _, true_r) in testset]\n",
        "\n",
        "# Calculate RMSE and MAE for the baseline predictions\n",
        "baseline_rmse = np.sqrt(np.mean([(true_r - pred)**2 for true_r, pred in zip(actual_ratings, baseline_predictions)]))\n",
        "baseline_mae = np.mean([abs(true_r - pred) for true_r, pred in zip(actual_ratings, baseline_predictions)])\n",
        "\n",
        "print(f'Item Mean Baseline RMSE: {baseline_rmse}')\n",
        "print(f'Item Mean Baseline MAE: {baseline_mae}')\n"
      ],
      "metadata": {
        "colab": {
          "base_uri": "https://localhost:8080/"
        },
        "id": "A4gE1kghwc5K",
        "outputId": "406887ad-f103-4145-dd12-088316a63da2"
      },
      "execution_count": null,
      "outputs": [
        {
          "output_type": "stream",
          "name": "stdout",
          "text": [
            "Item Mean Baseline RMSE: 1.2779362977500783\n",
            "Item Mean Baseline MAE: 0.9881728871182761\n"
          ]
        }
      ]
    },
    {
      "cell_type": "markdown",
      "source": [
        "Apply SVD"
      ],
      "metadata": {
        "id": "xV68RWynyFZL"
      }
    },
    {
      "cell_type": "code",
      "source": [
        "# Create an SVD instance and train it on the training set\n",
        "svd_model = SVD()\n",
        "svd_model.fit(trainset)\n",
        "\n",
        "# Make predictions on the validation (test) set\n",
        "predictions = svd_model.test(testset)\n",
        "\n",
        "# Calculate RMSE and MAE on the validation set\n",
        "print(\"RMSE on Validation set: \", rmse(predictions, verbose=False))\n",
        "print(\"MAE on Validation set: \", mae(predictions, verbose=False))\n"
      ],
      "metadata": {
        "colab": {
          "base_uri": "https://localhost:8080/"
        },
        "id": "8taKJO8mrBQ7",
        "outputId": "2eda56b7-d5d7-4193-ce4b-9c6b2fdbedf7"
      },
      "execution_count": null,
      "outputs": [
        {
          "output_type": "stream",
          "name": "stdout",
          "text": [
            "RMSE on Validation set:  0.996943502276251\n",
            "MAE on Validation set:  0.7834825081510493\n"
          ]
        }
      ]
    },
    {
      "cell_type": "markdown",
      "source": [
        " An RMSE of 0.9884 means that the average error (in terms of the rating scale) is just under 1 rating point.\n",
        " MAE: This represents the average absolute error between the predicted and actual ratings. A MAE of 0.7781 means that on average, the model's predictions are about 0.7781 rating points off from the true rating."
      ],
      "metadata": {
        "id": "i-fNk2LguUKO"
      }
    },
    {
      "cell_type": "markdown",
      "source": [
        "Prediction"
      ],
      "metadata": {
        "id": "k6X5Uy_-6Arx"
      }
    },
    {
      "cell_type": "code",
      "source": [
        "print(test_df.shape)\n",
        "\n",
        "# Assuming test_df is your test set pandas DataFrame with 'userId' and 'movieId' columns\n",
        "testset = list(zip(test_df['userId'].values, test_df['movieId'].values))\n",
        "num_testset = len(testset)\n",
        "\n",
        "print(f'There are {num_testset} items in the testset list.')\n",
        "\n",
        "# Since we don't have the actual ratings, we'll use a dummy value, e.g., 0, for all of them\n",
        "# Surprise ignores this value during prediction but requires it to be there in the dataset.\n",
        "testset = [(uid, iid, 0) for (uid, iid) in testset]\n",
        "\n",
        "# Now you can predict ratings for the testset using the SVD model\n",
        "predictions = svd_model.test(testset)\n",
        "\n",
        "# Display the first 5 predictions\n",
        "predictions[:5]\n",
        "\n",
        "# Calculate the number of items in the predictions list\n",
        "num_predictions = len(predictions)\n",
        "\n",
        "# Print the number of items\n",
        "print(f'There are {num_predictions} items in the predictions list.')\n"
      ],
      "metadata": {
        "colab": {
          "base_uri": "https://localhost:8080/"
        },
        "id": "sU-6F4qb5B_x",
        "outputId": "aea9181b-4072-4f1c-e8a3-ef3f606edf40"
      },
      "execution_count": null,
      "outputs": [
        {
          "output_type": "stream",
          "name": "stdout",
          "text": [
            "(12340, 2)\n",
            "There are 12340 items in the testset list.\n",
            "There are 12340 items in the predictions list.\n"
          ]
        }
      ]
    },
    {
      "cell_type": "code",
      "source": [
        "test_df.columns"
      ],
      "metadata": {
        "colab": {
          "base_uri": "https://localhost:8080/"
        },
        "id": "yvP7f6btCTw3",
        "outputId": "390ec701-861a-4a31-a30a-878fd60db898"
      },
      "execution_count": null,
      "outputs": [
        {
          "output_type": "execute_result",
          "data": {
            "text/plain": [
              "Index(['userId', 'movieId'], dtype='object')"
            ]
          },
          "metadata": {},
          "execution_count": 9
        }
      ]
    },
    {
      "cell_type": "code",
      "source": [
        "test_df.head()"
      ],
      "metadata": {
        "colab": {
          "base_uri": "https://localhost:8080/",
          "height": 206
        },
        "id": "l5zRjolZCmnX",
        "outputId": "ce006e86-75bc-4e2e-ef5b-15d13b3f0379"
      },
      "execution_count": null,
      "outputs": [
        {
          "output_type": "execute_result",
          "data": {
            "text/plain": [
              "    userId  movieId\n",
              "0  49177.0      356\n",
              "1   3184.0      541\n",
              "2   3165.0      356\n",
              "3  35462.0      356\n",
              "4  25996.0      356"
            ],
            "text/html": [
              "\n",
              "  <div id=\"df-f89cca76-3532-4a9c-926e-7ff7e3cff7c5\" class=\"colab-df-container\">\n",
              "    <div>\n",
              "<style scoped>\n",
              "    .dataframe tbody tr th:only-of-type {\n",
              "        vertical-align: middle;\n",
              "    }\n",
              "\n",
              "    .dataframe tbody tr th {\n",
              "        vertical-align: top;\n",
              "    }\n",
              "\n",
              "    .dataframe thead th {\n",
              "        text-align: right;\n",
              "    }\n",
              "</style>\n",
              "<table border=\"1\" class=\"dataframe\">\n",
              "  <thead>\n",
              "    <tr style=\"text-align: right;\">\n",
              "      <th></th>\n",
              "      <th>userId</th>\n",
              "      <th>movieId</th>\n",
              "    </tr>\n",
              "  </thead>\n",
              "  <tbody>\n",
              "    <tr>\n",
              "      <th>0</th>\n",
              "      <td>49177.0</td>\n",
              "      <td>356</td>\n",
              "    </tr>\n",
              "    <tr>\n",
              "      <th>1</th>\n",
              "      <td>3184.0</td>\n",
              "      <td>541</td>\n",
              "    </tr>\n",
              "    <tr>\n",
              "      <th>2</th>\n",
              "      <td>3165.0</td>\n",
              "      <td>356</td>\n",
              "    </tr>\n",
              "    <tr>\n",
              "      <th>3</th>\n",
              "      <td>35462.0</td>\n",
              "      <td>356</td>\n",
              "    </tr>\n",
              "    <tr>\n",
              "      <th>4</th>\n",
              "      <td>25996.0</td>\n",
              "      <td>356</td>\n",
              "    </tr>\n",
              "  </tbody>\n",
              "</table>\n",
              "</div>\n",
              "    <div class=\"colab-df-buttons\">\n",
              "\n",
              "  <div class=\"colab-df-container\">\n",
              "    <button class=\"colab-df-convert\" onclick=\"convertToInteractive('df-f89cca76-3532-4a9c-926e-7ff7e3cff7c5')\"\n",
              "            title=\"Convert this dataframe to an interactive table.\"\n",
              "            style=\"display:none;\">\n",
              "\n",
              "  <svg xmlns=\"http://www.w3.org/2000/svg\" height=\"24px\" viewBox=\"0 -960 960 960\">\n",
              "    <path d=\"M120-120v-720h720v720H120Zm60-500h600v-160H180v160Zm220 220h160v-160H400v160Zm0 220h160v-160H400v160ZM180-400h160v-160H180v160Zm440 0h160v-160H620v160ZM180-180h160v-160H180v160Zm440 0h160v-160H620v160Z\"/>\n",
              "  </svg>\n",
              "    </button>\n",
              "\n",
              "  <style>\n",
              "    .colab-df-container {\n",
              "      display:flex;\n",
              "      gap: 12px;\n",
              "    }\n",
              "\n",
              "    .colab-df-convert {\n",
              "      background-color: #E8F0FE;\n",
              "      border: none;\n",
              "      border-radius: 50%;\n",
              "      cursor: pointer;\n",
              "      display: none;\n",
              "      fill: #1967D2;\n",
              "      height: 32px;\n",
              "      padding: 0 0 0 0;\n",
              "      width: 32px;\n",
              "    }\n",
              "\n",
              "    .colab-df-convert:hover {\n",
              "      background-color: #E2EBFA;\n",
              "      box-shadow: 0px 1px 2px rgba(60, 64, 67, 0.3), 0px 1px 3px 1px rgba(60, 64, 67, 0.15);\n",
              "      fill: #174EA6;\n",
              "    }\n",
              "\n",
              "    .colab-df-buttons div {\n",
              "      margin-bottom: 4px;\n",
              "    }\n",
              "\n",
              "    [theme=dark] .colab-df-convert {\n",
              "      background-color: #3B4455;\n",
              "      fill: #D2E3FC;\n",
              "    }\n",
              "\n",
              "    [theme=dark] .colab-df-convert:hover {\n",
              "      background-color: #434B5C;\n",
              "      box-shadow: 0px 1px 3px 1px rgba(0, 0, 0, 0.15);\n",
              "      filter: drop-shadow(0px 1px 2px rgba(0, 0, 0, 0.3));\n",
              "      fill: #FFFFFF;\n",
              "    }\n",
              "  </style>\n",
              "\n",
              "    <script>\n",
              "      const buttonEl =\n",
              "        document.querySelector('#df-f89cca76-3532-4a9c-926e-7ff7e3cff7c5 button.colab-df-convert');\n",
              "      buttonEl.style.display =\n",
              "        google.colab.kernel.accessAllowed ? 'block' : 'none';\n",
              "\n",
              "      async function convertToInteractive(key) {\n",
              "        const element = document.querySelector('#df-f89cca76-3532-4a9c-926e-7ff7e3cff7c5');\n",
              "        const dataTable =\n",
              "          await google.colab.kernel.invokeFunction('convertToInteractive',\n",
              "                                                    [key], {});\n",
              "        if (!dataTable) return;\n",
              "\n",
              "        const docLinkHtml = 'Like what you see? Visit the ' +\n",
              "          '<a target=\"_blank\" href=https://colab.research.google.com/notebooks/data_table.ipynb>data table notebook</a>'\n",
              "          + ' to learn more about interactive tables.';\n",
              "        element.innerHTML = '';\n",
              "        dataTable['output_type'] = 'display_data';\n",
              "        await google.colab.output.renderOutput(dataTable, element);\n",
              "        const docLink = document.createElement('div');\n",
              "        docLink.innerHTML = docLinkHtml;\n",
              "        element.appendChild(docLink);\n",
              "      }\n",
              "    </script>\n",
              "  </div>\n",
              "\n",
              "\n",
              "<div id=\"df-2ff8467d-d2ad-4812-bf13-8d7dbc20e9e6\">\n",
              "  <button class=\"colab-df-quickchart\" onclick=\"quickchart('df-2ff8467d-d2ad-4812-bf13-8d7dbc20e9e6')\"\n",
              "            title=\"Suggest charts\"\n",
              "            style=\"display:none;\">\n",
              "\n",
              "<svg xmlns=\"http://www.w3.org/2000/svg\" height=\"24px\"viewBox=\"0 0 24 24\"\n",
              "     width=\"24px\">\n",
              "    <g>\n",
              "        <path d=\"M19 3H5c-1.1 0-2 .9-2 2v14c0 1.1.9 2 2 2h14c1.1 0 2-.9 2-2V5c0-1.1-.9-2-2-2zM9 17H7v-7h2v7zm4 0h-2V7h2v10zm4 0h-2v-4h2v4z\"/>\n",
              "    </g>\n",
              "</svg>\n",
              "  </button>\n",
              "\n",
              "<style>\n",
              "  .colab-df-quickchart {\n",
              "      --bg-color: #E8F0FE;\n",
              "      --fill-color: #1967D2;\n",
              "      --hover-bg-color: #E2EBFA;\n",
              "      --hover-fill-color: #174EA6;\n",
              "      --disabled-fill-color: #AAA;\n",
              "      --disabled-bg-color: #DDD;\n",
              "  }\n",
              "\n",
              "  [theme=dark] .colab-df-quickchart {\n",
              "      --bg-color: #3B4455;\n",
              "      --fill-color: #D2E3FC;\n",
              "      --hover-bg-color: #434B5C;\n",
              "      --hover-fill-color: #FFFFFF;\n",
              "      --disabled-bg-color: #3B4455;\n",
              "      --disabled-fill-color: #666;\n",
              "  }\n",
              "\n",
              "  .colab-df-quickchart {\n",
              "    background-color: var(--bg-color);\n",
              "    border: none;\n",
              "    border-radius: 50%;\n",
              "    cursor: pointer;\n",
              "    display: none;\n",
              "    fill: var(--fill-color);\n",
              "    height: 32px;\n",
              "    padding: 0;\n",
              "    width: 32px;\n",
              "  }\n",
              "\n",
              "  .colab-df-quickchart:hover {\n",
              "    background-color: var(--hover-bg-color);\n",
              "    box-shadow: 0 1px 2px rgba(60, 64, 67, 0.3), 0 1px 3px 1px rgba(60, 64, 67, 0.15);\n",
              "    fill: var(--button-hover-fill-color);\n",
              "  }\n",
              "\n",
              "  .colab-df-quickchart-complete:disabled,\n",
              "  .colab-df-quickchart-complete:disabled:hover {\n",
              "    background-color: var(--disabled-bg-color);\n",
              "    fill: var(--disabled-fill-color);\n",
              "    box-shadow: none;\n",
              "  }\n",
              "\n",
              "  .colab-df-spinner {\n",
              "    border: 2px solid var(--fill-color);\n",
              "    border-color: transparent;\n",
              "    border-bottom-color: var(--fill-color);\n",
              "    animation:\n",
              "      spin 1s steps(1) infinite;\n",
              "  }\n",
              "\n",
              "  @keyframes spin {\n",
              "    0% {\n",
              "      border-color: transparent;\n",
              "      border-bottom-color: var(--fill-color);\n",
              "      border-left-color: var(--fill-color);\n",
              "    }\n",
              "    20% {\n",
              "      border-color: transparent;\n",
              "      border-left-color: var(--fill-color);\n",
              "      border-top-color: var(--fill-color);\n",
              "    }\n",
              "    30% {\n",
              "      border-color: transparent;\n",
              "      border-left-color: var(--fill-color);\n",
              "      border-top-color: var(--fill-color);\n",
              "      border-right-color: var(--fill-color);\n",
              "    }\n",
              "    40% {\n",
              "      border-color: transparent;\n",
              "      border-right-color: var(--fill-color);\n",
              "      border-top-color: var(--fill-color);\n",
              "    }\n",
              "    60% {\n",
              "      border-color: transparent;\n",
              "      border-right-color: var(--fill-color);\n",
              "    }\n",
              "    80% {\n",
              "      border-color: transparent;\n",
              "      border-right-color: var(--fill-color);\n",
              "      border-bottom-color: var(--fill-color);\n",
              "    }\n",
              "    90% {\n",
              "      border-color: transparent;\n",
              "      border-bottom-color: var(--fill-color);\n",
              "    }\n",
              "  }\n",
              "</style>\n",
              "\n",
              "  <script>\n",
              "    async function quickchart(key) {\n",
              "      const quickchartButtonEl =\n",
              "        document.querySelector('#' + key + ' button');\n",
              "      quickchartButtonEl.disabled = true;  // To prevent multiple clicks.\n",
              "      quickchartButtonEl.classList.add('colab-df-spinner');\n",
              "      try {\n",
              "        const charts = await google.colab.kernel.invokeFunction(\n",
              "            'suggestCharts', [key], {});\n",
              "      } catch (error) {\n",
              "        console.error('Error during call to suggestCharts:', error);\n",
              "      }\n",
              "      quickchartButtonEl.classList.remove('colab-df-spinner');\n",
              "      quickchartButtonEl.classList.add('colab-df-quickchart-complete');\n",
              "    }\n",
              "    (() => {\n",
              "      let quickchartButtonEl =\n",
              "        document.querySelector('#df-2ff8467d-d2ad-4812-bf13-8d7dbc20e9e6 button');\n",
              "      quickchartButtonEl.style.display =\n",
              "        google.colab.kernel.accessAllowed ? 'block' : 'none';\n",
              "    })();\n",
              "  </script>\n",
              "</div>\n",
              "    </div>\n",
              "  </div>\n"
            ]
          },
          "metadata": {},
          "execution_count": 10
        }
      ]
    },
    {
      "cell_type": "code",
      "source": [
        "# Extract the estimated ratings and user-item pairs from the predictions\n",
        "predicted_ratings = [pred.est for pred in predictions]\n",
        "user_movie_pairs = [(int(pred.uid), pred.iid) for pred in predictions]\n",
        "\n",
        "# Create a unique ID for each user-movie pair\n",
        "unique_ids = ['{}_{}'.format(uid, iid) for (uid, iid) in user_movie_pairs]\n",
        "\n",
        "\n",
        "# Prepare the submission DataFrame\n",
        "submission_df = pd.DataFrame({\n",
        "    'ID': unique_ids,\n",
        "    'predicted_rating': predicted_ratings\n",
        "})\n",
        "\n",
        "# Save to a CSV file for submission\n",
        "submission_df.to_csv('submission.csv', index=False)\n",
        "\n",
        "from google.colab import files\n",
        "files.download('submission.csv')"
      ],
      "metadata": {
        "colab": {
          "base_uri": "https://localhost:8080/",
          "height": 17
        },
        "id": "WGvpUJs35_vQ",
        "outputId": "67149982-154d-4194-dcb0-0f088d102acf"
      },
      "execution_count": null,
      "outputs": [
        {
          "output_type": "display_data",
          "data": {
            "text/plain": [
              "<IPython.core.display.Javascript object>"
            ],
            "application/javascript": [
              "\n",
              "    async function download(id, filename, size) {\n",
              "      if (!google.colab.kernel.accessAllowed) {\n",
              "        return;\n",
              "      }\n",
              "      const div = document.createElement('div');\n",
              "      const label = document.createElement('label');\n",
              "      label.textContent = `Downloading \"${filename}\": `;\n",
              "      div.appendChild(label);\n",
              "      const progress = document.createElement('progress');\n",
              "      progress.max = size;\n",
              "      div.appendChild(progress);\n",
              "      document.body.appendChild(div);\n",
              "\n",
              "      const buffers = [];\n",
              "      let downloaded = 0;\n",
              "\n",
              "      const channel = await google.colab.kernel.comms.open(id);\n",
              "      // Send a message to notify the kernel that we're ready.\n",
              "      channel.send({})\n",
              "\n",
              "      for await (const message of channel.messages) {\n",
              "        // Send a message to notify the kernel that we're ready.\n",
              "        channel.send({})\n",
              "        if (message.buffers) {\n",
              "          for (const buffer of message.buffers) {\n",
              "            buffers.push(buffer);\n",
              "            downloaded += buffer.byteLength;\n",
              "            progress.value = downloaded;\n",
              "          }\n",
              "        }\n",
              "      }\n",
              "      const blob = new Blob(buffers, {type: 'application/binary'});\n",
              "      const a = document.createElement('a');\n",
              "      a.href = window.URL.createObjectURL(blob);\n",
              "      a.download = filename;\n",
              "      div.appendChild(a);\n",
              "      a.click();\n",
              "      div.remove();\n",
              "    }\n",
              "  "
            ]
          },
          "metadata": {}
        },
        {
          "output_type": "display_data",
          "data": {
            "text/plain": [
              "<IPython.core.display.Javascript object>"
            ],
            "application/javascript": [
              "download(\"download_41daa37e-98fc-4638-889d-59d305de66cd\", \"submission.csv\", 354582)"
            ]
          },
          "metadata": {}
        }
      ]
    },
    {
      "cell_type": "markdown",
      "source": [
        "# PCA"
      ],
      "metadata": {
        "id": "-1vabcwN3Ck1"
      }
    }
  ]
}